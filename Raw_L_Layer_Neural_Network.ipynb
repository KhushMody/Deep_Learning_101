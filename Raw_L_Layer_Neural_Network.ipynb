{
  "nbformat": 4,
  "nbformat_minor": 0,
  "metadata": {
    "colab": {
      "name": "Raw L-Layer Neural Network.ipynb",
      "provenance": [],
      "private_outputs": true,
      "authorship_tag": "ABX9TyP0bKzQq99O7b89CZV0I6h1",
      "include_colab_link": true
    },
    "kernelspec": {
      "name": "python3",
      "display_name": "Python 3"
    }
  },
  "cells": [
    {
      "cell_type": "markdown",
      "metadata": {
        "id": "view-in-github",
        "colab_type": "text"
      },
      "source": [
        "<a href=\"https://colab.research.google.com/github/KhushMody/Deep_Learning_101/blob/master/Raw_L_Layer_Neural_Network.ipynb\" target=\"_parent\"><img src=\"https://colab.research.google.com/assets/colab-badge.svg\" alt=\"Open In Colab\"/></a>"
      ]
    },
    {
      "cell_type": "markdown",
      "metadata": {
        "id": "TMt5fsSNULBW",
        "colab_type": "text"
      },
      "source": [
        "# RAW L-LAYER NEURAL NETWORK"
      ]
    },
    {
      "cell_type": "markdown",
      "metadata": {
        "id": "tQ_B-5_eRhaE",
        "colab_type": "text"
      },
      "source": [
        "### IMPORTING PACKAGES\n"
      ]
    },
    {
      "cell_type": "code",
      "metadata": {
        "id": "n-gW006fRs_8",
        "colab_type": "code",
        "colab": {}
      },
      "source": [
        "import numpy as np\n",
        "import matplotlib.pyplot as plt\n",
        "import sklearn\n",
        "import sklearn.datasets\n",
        "import h5py"
      ],
      "execution_count": null,
      "outputs": []
    },
    {
      "cell_type": "markdown",
      "metadata": {
        "id": "CfKxqLG2Afa_",
        "colab_type": "text"
      },
      "source": [
        "### HELPER FUNCTIONS"
      ]
    },
    {
      "cell_type": "code",
      "metadata": {
        "id": "kBg6sdoAAkyr",
        "colab_type": "code",
        "colab": {}
      },
      "source": [
        "def sigmoid(x):\n",
        "  s = 1/(1+np.exp(-x))\n",
        "  return s\n",
        "\n",
        "def relu(x):\n",
        "  s = np.maximum(0,x)\n",
        "  return s\n",
        "\n",
        "def relu_backward(dA, cache):\n",
        "  Z = cache\n",
        "  dZ = np.array(dA, copy = True)\n",
        "  dZ[Z <= 0] = 0\n",
        "  return dZ\n",
        "\n",
        "def sigmoid_backward(dA, cache):\n",
        "  Z = cache\n",
        "  s = 1/(1+np.exp(-Z))\n",
        "  dZ = dA * s * (1-s)\n",
        "  return dZ"
      ],
      "execution_count": null,
      "outputs": []
    },
    {
      "cell_type": "markdown",
      "metadata": {
        "id": "3ooDIYha8ors",
        "colab_type": "text"
      },
      "source": [
        "### INITIALIZATION"
      ]
    },
    {
      "cell_type": "code",
      "metadata": {
        "id": "3HBorGkf8wnr",
        "colab_type": "code",
        "colab": {}
      },
      "source": [
        "def initialize_parameters(layers_dims):\n",
        "  parameters = {}\n",
        "  L = len(layers_dims)\n",
        "\n",
        "  for l in range(1,L):\n",
        "    parameters['W' + str(l)] = np.random.randn(layers_dims[l],layers_dims[l-1])*np.sqrt(2/layers_dims[l-1])\n",
        "    parameters['b' + str(l)] = np.random.randn(layers_dims[l],1)\n",
        "  \n",
        "  return parameters"
      ],
      "execution_count": null,
      "outputs": []
    },
    {
      "cell_type": "markdown",
      "metadata": {
        "id": "-Qh00yvE_Q5S",
        "colab_type": "text"
      },
      "source": [
        "### FORWARD PROPOGATION\n"
      ]
    },
    {
      "cell_type": "markdown",
      "metadata": {
        "id": "bKDL27tD_aSz",
        "colab_type": "text"
      },
      "source": [
        "1.LINEAR FORWARD"
      ]
    },
    {
      "cell_type": "code",
      "metadata": {
        "id": "3XY8AFyp_4pi",
        "colab_type": "code",
        "colab": {}
      },
      "source": [
        "def linear_forward(A, W, b):\n",
        "  Z = np.dot(W,A) + b\n",
        "  cache = (A,W,b)\n",
        "\n",
        "  return Z,cache"
      ],
      "execution_count": null,
      "outputs": []
    },
    {
      "cell_type": "markdown",
      "metadata": {
        "id": "E9nK-J20BJmk",
        "colab_type": "text"
      },
      "source": [
        "2.LINEAR ACTIVATION FORWARD"
      ]
    },
    {
      "cell_type": "code",
      "metadata": {
        "id": "eoVF5IJZBdOf",
        "colab_type": "code",
        "colab": {}
      },
      "source": [
        "def linear_activation_forward(A_prev, W, b, activation):\n",
        "  if activation == \"relu\":\n",
        "    Z,linear_cache = linear_forward(A_prev, W, b)\n",
        "    A = relu(Z)\n",
        "    activation_cache = Z\n",
        "  if activation == \"sigmoid\":\n",
        "    Z,linear_cache = linear_forward(A_prev, W, b)\n",
        "    A = sigmoid(Z)\n",
        "    activation_cache = Z\n",
        "  cache = (linear_cache, activation_cache)\n",
        "  return A,cache"
      ],
      "execution_count": null,
      "outputs": []
    },
    {
      "cell_type": "markdown",
      "metadata": {
        "id": "dGx8bwYTDeTg",
        "colab_type": "text"
      },
      "source": [
        "3.L-LAYER FORWARD PROPOGATION"
      ]
    },
    {
      "cell_type": "code",
      "metadata": {
        "id": "KQxTUbczDcG9",
        "colab_type": "code",
        "colab": {}
      },
      "source": [
        "def l_layer_forward_propogation(X,parameters):\n",
        "  A = X\n",
        "  L = len(parameters) // 2\n",
        "  caches = []\n",
        "\n",
        "  for l in range(1,L):\n",
        "    A_prev = A\n",
        "    A,cache = linear_activation_forward(A_prev, parameters['W' + str(l)], parameters['b' + str(l)], activation = 'relu')\n",
        "    caches.append(cache)\n",
        "\n",
        "  Yhat,cache = linear_activation_forward(A, parameters[\"W\" + str(L)], parameters[\"b\" + str(l)], activation = \"sigmoid\")\n",
        "  caches.append(cache)\n",
        "\n",
        "  return AL,caches"
      ],
      "execution_count": null,
      "outputs": []
    },
    {
      "cell_type": "markdown",
      "metadata": {
        "id": "qildNPMnLb07",
        "colab_type": "text"
      },
      "source": [
        "###  COST FUNCTION"
      ]
    },
    {
      "cell_type": "code",
      "metadata": {
        "id": "HYlfq3dTKPnv",
        "colab_type": "code",
        "colab": {}
      },
      "source": [
        "def compute_cost(AL, Y):\n",
        "  m = Y.shape[1]\n",
        "  cost = -(np.dot(Y,np.log(AL).T)+np.dot((1-Y),(np.log(1-AL)).T))/m\n",
        "  cost = np.squeeze(cost)\n",
        "\n",
        "  return cost"
      ],
      "execution_count": null,
      "outputs": []
    },
    {
      "cell_type": "markdown",
      "metadata": {
        "id": "nJRDTkXpMIoO",
        "colab_type": "text"
      },
      "source": [
        "### BACKWARD PROPOGATION"
      ]
    },
    {
      "cell_type": "markdown",
      "metadata": {
        "id": "jHDdEnAzMQE9",
        "colab_type": "text"
      },
      "source": [
        "1.LINEAR BACKWARD"
      ]
    },
    {
      "cell_type": "code",
      "metadata": {
        "id": "zGuE0qHZMHD-",
        "colab_type": "code",
        "colab": {}
      },
      "source": [
        "def linear_backward(dZ, cache):\n",
        "  A_prev, W, b = cache\n",
        "  m = A_prev.shape[1]\n",
        "\n",
        "  dW = (1/m) * (np.dot(dZ,A_prev.T))\n",
        "  db = (1/m) * (np.sum(dZ, axis = 1, keepdims = True))\n",
        "  dA_prev = np.dot(W.T, dZ)\n",
        "\n",
        "  return dA_prev, dW, db"
      ],
      "execution_count": null,
      "outputs": []
    },
    {
      "cell_type": "markdown",
      "metadata": {
        "id": "5HI5f7lWP_rO",
        "colab_type": "text"
      },
      "source": [
        "2.LINEAR ACTIVATION BACKWARD"
      ]
    },
    {
      "cell_type": "code",
      "metadata": {
        "id": "DyVaz-6LP-55",
        "colab_type": "code",
        "colab": {}
      },
      "source": [
        "def linear_activation_backward(dA, cache, activation):\n",
        "  linear_cache, activation_cache = cache\n",
        "  if activation == \"relu\":\n",
        "    dZ = relu_backward(dA, activation_cache)\n",
        "    dA_prev, dW, db = linear_backward(dZ, linear_cache)\n",
        "\n",
        "  if activation == \"sigmoid\":\n",
        "    dZ = sigmoid_backward(dA, activation_cache)\n",
        "    dA_prev, dW, db = linear_backward(dZ, linear_cache)\n",
        "\n",
        "  return dA_prev, dW, db"
      ],
      "execution_count": null,
      "outputs": []
    },
    {
      "cell_type": "markdown",
      "metadata": {
        "id": "I0HhOjU7RU-w",
        "colab_type": "text"
      },
      "source": [
        "L-LAYER BACK PROPOGATION"
      ]
    },
    {
      "cell_type": "code",
      "metadata": {
        "id": "vobehHXdRSzc",
        "colab_type": "code",
        "colab": {}
      },
      "source": [
        "def L_layer_back_propogation(AL, Y, caches):\n",
        "  grads = {}\n",
        "  L = len(caches)\n",
        "  m = AL.shape[1]\n",
        "  Y = Y.reshape(AL.shape)\n",
        "\n",
        "  dAL = - (np.divide(Y, AL) - np.divide(1 - Y, 1 - AL))\n",
        "  current_cache = caches[L-1]\n",
        "  grads[\"dA\" + str(L-1)], grads[\"dW\" + str(L)], grads[\"db\" + str(L)] = linear_activation_backward(dAL, current_cache, activation = \"sigmoid\")\n",
        "\n",
        "  for l in  reversed(range(L-1)):\n",
        "    current_cache = caches[l]\n",
        "    dA_prev_temp, dW_temp, db_temp = linear_activation_backward(grads[\"dA\" + str(l+1)], current_cache, activation = \"relu\")\n",
        "    grads[\"dA\" + str(l)] = dA_prev_temp\n",
        "    grads[\"dW\" + str(l)] = dW_temp\n",
        "    grads[\"db\" + str(l)] = db_temp\n",
        "\n",
        "  return grads"
      ],
      "execution_count": null,
      "outputs": []
    },
    {
      "cell_type": "markdown",
      "metadata": {
        "id": "rXnXEAT7TlbS",
        "colab_type": "text"
      },
      "source": [
        "### PARAMETER UPDATION"
      ]
    },
    {
      "cell_type": "code",
      "metadata": {
        "id": "5sRNnE4kTkHb",
        "colab_type": "code",
        "colab": {}
      },
      "source": [
        "def update_parameters(parameters, grads, learning_rate):\n",
        "  L = len(parameters) // 2\n",
        "  for l in range(L):\n",
        "    parameters[\"W\" + str(l+1)] = parameters[\"W\" + str(l+1)] - (learning_rate * grads[\"dW\" + str(l+1)])\n",
        "    parameters[\"b\" + str(l+1)] = parameters[\"b\" + str(l+1)] - (learning_rate * grads[\"db\" + str(l+1)])\n",
        "  \n",
        "  return parameters"
      ],
      "execution_count": null,
      "outputs": []
    }
  ]
}